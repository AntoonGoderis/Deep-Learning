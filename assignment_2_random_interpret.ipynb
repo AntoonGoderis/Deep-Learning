{
  "cells": [
    {
      "cell_type": "markdown",
      "metadata": {
        "id": "view-in-github",
        "colab_type": "text"
      },
      "source": [
        "<a href=\"https://colab.research.google.com/github/AntoonGoderis/Deep-Learning/blob/Antoon/assignment_2_random_interpret.ipynb\" target=\"_parent\"><img src=\"https://colab.research.google.com/assets/colab-badge.svg\" alt=\"Open In Colab\"/></a>"
      ]
    },
    {
      "cell_type": "code",
      "execution_count": 1,
      "metadata": {
        "colab": {
          "base_uri": "https://localhost:8080/",
          "height": 547
        },
        "id": "GV06oWXBSQT7",
        "outputId": "4cc7135b-2677-4c05-94b3-c5103cdcdf6c"
      },
      "outputs": [
        {
          "output_type": "error",
          "ename": "ImportError",
          "evalue": "No module named 'cv2'",
          "traceback": [
            "\u001b[0;31m---------------------------------------------------------------------------\u001b[0m",
            "\u001b[0;31mImportError\u001b[0m                               Traceback (most recent call last)",
            "\u001b[0;32m<ipython-input-1-47ba713209a3>\u001b[0m in \u001b[0;36m<cell line: 0>\u001b[0;34m()\u001b[0m\n\u001b[1;32m      1\u001b[0m \u001b[0;32mimport\u001b[0m \u001b[0mos\u001b[0m\u001b[0;34m\u001b[0m\u001b[0;34m\u001b[0m\u001b[0m\n\u001b[1;32m      2\u001b[0m \u001b[0;32mimport\u001b[0m \u001b[0mpandas\u001b[0m \u001b[0;32mas\u001b[0m \u001b[0mpd\u001b[0m\u001b[0;34m\u001b[0m\u001b[0;34m\u001b[0m\u001b[0m\n\u001b[0;32m----> 3\u001b[0;31m \u001b[0;32mimport\u001b[0m \u001b[0mcv2\u001b[0m\u001b[0;34m\u001b[0m\u001b[0;34m\u001b[0m\u001b[0m\n\u001b[0m\u001b[1;32m      4\u001b[0m \u001b[0;34m\u001b[0m\u001b[0m\n\u001b[1;32m      5\u001b[0m \u001b[0;32mimport\u001b[0m \u001b[0mos\u001b[0m\u001b[0;34m\u001b[0m\u001b[0;34m\u001b[0m\u001b[0m\n",
            "\u001b[0;32m/usr/local/lib/python3.11/dist-packages/google/colab/_import_hooks/_cv2.py\u001b[0m in \u001b[0;36mload_module\u001b[0;34m(self, name)\u001b[0m\n\u001b[1;32m     75\u001b[0m     \u001b[0mpreviously_loaded\u001b[0m \u001b[0;34m=\u001b[0m \u001b[0mname\u001b[0m \u001b[0;32min\u001b[0m \u001b[0msys\u001b[0m\u001b[0;34m.\u001b[0m\u001b[0mmodules\u001b[0m\u001b[0;34m\u001b[0m\u001b[0;34m\u001b[0m\u001b[0m\n\u001b[1;32m     76\u001b[0m \u001b[0;34m\u001b[0m\u001b[0m\n\u001b[0;32m---> 77\u001b[0;31m     \u001b[0mmodule_info\u001b[0m \u001b[0;34m=\u001b[0m \u001b[0mimp\u001b[0m\u001b[0;34m.\u001b[0m\u001b[0mfind_module\u001b[0m\u001b[0;34m(\u001b[0m\u001b[0mname\u001b[0m\u001b[0;34m,\u001b[0m \u001b[0mself\u001b[0m\u001b[0;34m.\u001b[0m\u001b[0mpath\u001b[0m\u001b[0;34m)\u001b[0m\u001b[0;34m\u001b[0m\u001b[0;34m\u001b[0m\u001b[0m\n\u001b[0m\u001b[1;32m     78\u001b[0m     \u001b[0mcv_module\u001b[0m \u001b[0;34m=\u001b[0m \u001b[0mimp\u001b[0m\u001b[0;34m.\u001b[0m\u001b[0mload_module\u001b[0m\u001b[0;34m(\u001b[0m\u001b[0mname\u001b[0m\u001b[0;34m,\u001b[0m \u001b[0;34m*\u001b[0m\u001b[0mmodule_info\u001b[0m\u001b[0;34m)\u001b[0m\u001b[0;34m\u001b[0m\u001b[0;34m\u001b[0m\u001b[0m\n\u001b[1;32m     79\u001b[0m \u001b[0;34m\u001b[0m\u001b[0m\n",
            "\u001b[0;32m/usr/lib/python3.11/imp.py\u001b[0m in \u001b[0;36mfind_module\u001b[0;34m(name, path)\u001b[0m\n\u001b[1;32m    295\u001b[0m         \u001b[0;32mbreak\u001b[0m  \u001b[0;31m# Break out of outer loop when breaking out of inner loop.\u001b[0m\u001b[0;34m\u001b[0m\u001b[0;34m\u001b[0m\u001b[0m\n\u001b[1;32m    296\u001b[0m     \u001b[0;32melse\u001b[0m\u001b[0;34m:\u001b[0m\u001b[0;34m\u001b[0m\u001b[0;34m\u001b[0m\u001b[0m\n\u001b[0;32m--> 297\u001b[0;31m         \u001b[0;32mraise\u001b[0m \u001b[0mImportError\u001b[0m\u001b[0;34m(\u001b[0m\u001b[0m_ERR_MSG\u001b[0m\u001b[0;34m.\u001b[0m\u001b[0mformat\u001b[0m\u001b[0;34m(\u001b[0m\u001b[0mname\u001b[0m\u001b[0;34m)\u001b[0m\u001b[0;34m,\u001b[0m \u001b[0mname\u001b[0m\u001b[0;34m=\u001b[0m\u001b[0mname\u001b[0m\u001b[0;34m)\u001b[0m\u001b[0;34m\u001b[0m\u001b[0;34m\u001b[0m\u001b[0m\n\u001b[0m\u001b[1;32m    298\u001b[0m \u001b[0;34m\u001b[0m\u001b[0m\n\u001b[1;32m    299\u001b[0m     \u001b[0mencoding\u001b[0m \u001b[0;34m=\u001b[0m \u001b[0;32mNone\u001b[0m\u001b[0;34m\u001b[0m\u001b[0;34m\u001b[0m\u001b[0m\n",
            "\u001b[0;31mImportError\u001b[0m: No module named 'cv2'",
            "",
            "\u001b[0;31m---------------------------------------------------------------------------\u001b[0;32m\nNOTE: If your import is failing due to a missing package, you can\nmanually install dependencies using either !pip or !apt.\n\nTo view examples of installing some common dependencies, click the\n\"Open Examples\" button below.\n\u001b[0;31m---------------------------------------------------------------------------\u001b[0m\n"
          ],
          "errorDetails": {
            "actions": [
              {
                "action": "open_url",
                "actionText": "Open Examples",
                "url": "/notebooks/snippets/importing_libraries.ipynb"
              }
            ]
          }
        }
      ],
      "source": [
        "import os\n",
        "import pandas as pd\n",
        "import cv2\n",
        "\n",
        "import os\n",
        "import json\n",
        "import ast\n",
        "\n",
        "import numpy as np\n",
        "import pandas as pd\n",
        "import cv2\n",
        "from scipy.optimize import curve_fit\n",
        "\n",
        "from sklearn.model_selection import train_test_split\n",
        "from sklearn.preprocessing import LabelEncoder\n",
        "from sklearn.metrics import confusion_matrix, classification_report\n",
        "\n",
        "import tensorflow as tf\n",
        "from tensorflow.keras import layers, regularizers\n",
        "from tensorflow.keras.layers import LeakyReLU\n",
        "from tensorflow.keras.optimizers import SGD, AdamW\n",
        "\n",
        "!pip install keras-tuner\n",
        "from keras.datasets import mnist\n",
        "from keras.models import Sequential\n",
        "from keras.layers import Dense, Flatten, Input\n",
        "from keras.regularizers import l2\n",
        "from keras.utils import to_categorical\n",
        "\n",
        "import keras_tuner as kt\n",
        "\n",
        "import seaborn as sns\n",
        "import matplotlib.pyplot as plt\n",
        "import matplotlib.gridspec as gridspec\n",
        "import zipfile\n",
        "\n",
        "from tensorflow.keras.applications import EfficientNetB0\n",
        "from tensorflow.keras.layers import GlobalAveragePooling2D, Dense, Dropout\n",
        "from tensorflow.keras.models import Model\n",
        "from tensorflow.keras.applications.efficientnet import preprocess_input as pi_efficient\n",
        "from tensorflow.keras.applications.resnet50 import ResNet50\n",
        "from tensorflow.keras.applications.resnet50 import preprocess_input as pi_resnet\n",
        "\n",
        "from tensorflow.keras import layers, models, preprocessing\n",
        "\n",
        "\n",
        "\n",
        "\n"
      ]
    },
    {
      "cell_type": "code",
      "execution_count": null,
      "metadata": {
        "id": "o8kzGlxEWT3M"
      },
      "outputs": [],
      "source": [
        "from google.colab import drive\n",
        "drive.mount('/content/drive')\n",
        "\n",
        "import zipfile\n",
        "\n",
        "# Replace 'path/to/your_file.zip' with the path to your zip file in Google Drive\n",
        "zip_file_path = '/content/drive/My Drive/Assign2/training_data.zip'\n",
        "extract_path = '/content/simpsons-mnist-master/dataset/rgb/'\n",
        "\n",
        "with zipfile.ZipFile(zip_file_path, 'r') as zip_ref:\n",
        "    zip_ref.extractall(extract_path)\n",
        "\n",
        "zip_file_path = '/content/drive/My Drive/Assign2/test_data.zip'\n",
        "extract_path = '/content/simpsons-mnist-master/dataset/rgb/'\n",
        "\n",
        "with zipfile.ZipFile(zip_file_path, 'r') as zip_ref:\n",
        "    zip_ref.extractall(extract_path)"
      ]
    },
    {
      "cell_type": "code",
      "execution_count": null,
      "metadata": {
        "id": "Cd00NcLYSQUA"
      },
      "outputs": [],
      "source": [
        "base_dir = os.getcwd()\n",
        "\n",
        "train_path = os.path.join(base_dir, \"simpsons-mnist-master\", \"dataset\", \"rgb\", \"train\")\n",
        "test_path = os.path.join(base_dir, \"simpsons-mnist-master\", \"dataset\", \"rgb\", \"test\")\n",
        "#test_rotated_path = os.path.join(base_dir, \"simpsons-mnist-master\", \"dataset\", \"rgb\", \"test_rotated\")\n",
        "#test_zoomed_in_path = os.path.join(base_dir, \"simpsons-mnist-master\", \"dataset\", \"rgb\", \"test_zoomed_in\")\n",
        "#test_zoomed_out_path = os.path.join(base_dir, \"simpsons-mnist-master\", \"dataset\", \"rgb\", \"test_zoomed_out\")\n",
        "\n",
        "image_data = []\n",
        "test_data = []\n",
        "test_r_data = []\n",
        "test_zi_data = []\n",
        "test_zo_data = []\n",
        "\n",
        "for class_name in os.listdir(train_path):\n",
        "\n",
        "    class_path = os.path.join(train_path, class_name)\n",
        "\n",
        "    if os.path.isdir(class_path):\n",
        "        for img_name in os.listdir(class_path):\n",
        "            image_data.append((os.path.join(class_path, img_name), class_name))\n",
        "\n",
        "df_train = pd.DataFrame(image_data, columns=[\"image_path\", \"label\"])\n",
        "print(df_train.head())\n",
        "\n",
        "for class_name in os.listdir(test_path):\n",
        "\n",
        "    class_path = os.path.join(test_path, class_name)\n",
        "\n",
        "    if os.path.isdir(class_path):\n",
        "        for img_name in os.listdir(class_path):\n",
        "            test_data.append((os.path.join(class_path, img_name), class_name))\n",
        "\n",
        "\n",
        "df_test = pd.DataFrame(test_data, columns=[\"image_path\", \"label\"])\n",
        "print(df_test.head())\n",
        "\n",
        "\"\"\"\n",
        "for class_name in os.listdir(test_rotated_path):\n",
        "\n",
        "    class_path = os.path.join(test_rotated_path, class_name)\n",
        "\n",
        "    if os.path.isdir(class_path):\n",
        "        for img_name in os.listdir(class_path):\n",
        "            test_r_data.append((os.path.join(class_path, img_name), class_name))\n",
        "\n",
        "df_test_r = pd.DataFrame(test_r_data, columns=[\"image_path\", \"label\"])\n",
        "print(df_test_r.head())\n",
        "\n",
        "for class_name in os.listdir(test_zoomed_in_path):\n",
        "\n",
        "    class_path = os.path.join(test_zoomed_in_path, class_name)\n",
        "\n",
        "    if os.path.isdir(class_path):\n",
        "        for img_name in os.listdir(class_path):\n",
        "            test_zi_data.append((os.path.join(class_path, img_name), class_name))\n",
        "\n",
        "df_test_zi = pd.DataFrame(test_zi_data, columns=[\"image_path\", \"label\"])\n",
        "print(df_test_zi.head())\n",
        "\n",
        "for class_name in os.listdir(test_zoomed_out_path):\n",
        "\n",
        "    class_path = os.path.join(test_zoomed_out_path, class_name)\n",
        "\n",
        "    if os.path.isdir(class_path):\n",
        "        for img_name in os.listdir(class_path):\n",
        "            test_zo_data.append((os.path.join(class_path, img_name), class_name))\n",
        "\n",
        "df_test_zo = pd.DataFrame(test_zo_data, columns=[\"image_path\", \"label\"])\n",
        "print(df_test_zo.head())\n",
        "\"\"\""
      ]
    },
    {
      "cell_type": "code",
      "execution_count": null,
      "metadata": {
        "id": "wXNkUZtnSQUC"
      },
      "outputs": [],
      "source": [
        "import cv2\n",
        "\n",
        "def load_image(img_path):\n",
        "    img = cv2.imread(img_path)\n",
        "    if img is None:\n",
        "        print(f\"Error: Could not load image at {img_path}\")\n",
        "        return None\n",
        "    img = img / 255.0\n",
        "    return img\n",
        "\n",
        "df_train[\"image_array\"] = df_train[\"image_path\"].apply(lambda x: load_image(x))\n",
        "df_test[\"image_array\"] = df_test[\"image_path\"].apply(lambda x: load_image(x))\n",
        "\n",
        "\n",
        "\n",
        "\"\"\"\n",
        "def load_image(img_path):\n",
        "    img = cv2.imread(img_path)\n",
        "    img = img / 255.0\n",
        "    return img\n",
        "\n",
        "\n",
        "df_train[\"image_array\"] = df_train[\"image_path\"].apply(lambda x: load_image(x))\n",
        "\n",
        "df_test[\"image_array\"] = df_test[\"image_path\"].apply(lambda x: load_image(x))\n",
        "\n",
        "df_test_r[\"image_array\"] = df_test_r[\"image_path\"].apply(lambda x: load_image(x))\n",
        "\n",
        "df_test_zi[\"image_array\"] = df_test_zi[\"image_path\"].apply(lambda x: load_image(x))\n",
        "\n",
        "df_test_zo[\"image_array\"] = df_test_zo[\"image_path\"].apply(lambda x: load_image(x))\n",
        "\"\"\"\n",
        "\n",
        "sample_img = df_train[\"image_array\"][0]\n",
        "print(sample_img.shape)"
      ]
    },
    {
      "cell_type": "code",
      "source": [],
      "metadata": {
        "id": "BEE309y4R39q"
      },
      "execution_count": null,
      "outputs": []
    },
    {
      "cell_type": "code",
      "execution_count": null,
      "metadata": {
        "id": "T059PBYWSQUC"
      },
      "outputs": [],
      "source": [
        "num_classes = df_train.label.nunique()\n",
        "print(num_classes)"
      ]
    },
    {
      "cell_type": "code",
      "execution_count": null,
      "metadata": {
        "id": "ZJsnNwOXSQUC"
      },
      "outputs": [],
      "source": [
        "label_encoder = LabelEncoder()\n",
        "df_train[\"label_encoded\"] = label_encoder.fit_transform(df_train[\"label\"])\n",
        "df_test[\"label_encoded\"] = label_encoder.transform(df_test[\"label\"])\n",
        "\"\"\"\n",
        "df_test_r[\"label_encoded\"] = label_encoder.transform(df_test_r[\"label\"])\n",
        "df_test_zi[\"label_encoded\"] = label_encoder.transform(df_test_zi[\"label\"])\n",
        "df_test_zo[\"label_encoded\"] = label_encoder.transform(df_test_zo[\"label\"])\n",
        "\"\"\"\n",
        "\n",
        "\n",
        "X_train_valid = np.stack(df_train[\"image_array\"].values)\n",
        "\n",
        "\n",
        "y_train_valid = to_categorical(df_train[\"label_encoded\"], num_classes=num_classes)\n",
        "\n",
        "X_train, X_valid, y_train, y_valid = train_test_split(X_train_valid, y_train_valid, test_size=0.3, random_state=42)\n",
        "\n",
        "X_test = np.stack(df_test[\"image_array\"].values)\n",
        "y_test = to_categorical(df_test[\"label_encoded\"], num_classes=num_classes)\n",
        "\"\"\"\n",
        "X_test_r = np.stack(df_test_r[\"image_array\"].values)\n",
        "y_test_r = to_categorical(df_test_r[\"label_encoded\"], num_classes=num_classes)\n",
        "\n",
        "X_test_zi = np.stack(df_test_zi[\"image_array\"].values)\n",
        "y_test_zi = to_categorical(df_test_zi[\"label_encoded\"], num_classes=num_classes)\n",
        "\n",
        "X_test_zo = np.stack(df_test_zo[\"image_array\"].values)\n",
        "y_test_zo = to_categorical(df_test_zo[\"label_encoded\"], num_classes=num_classes)\n",
        "\"\"\"\n",
        "\n",
        "print(X_train_valid.shape)\n",
        "print(y_train_valid.shape)\n",
        "\n"
      ]
    },
    {
      "cell_type": "code",
      "source": [
        "from tensorflow.keras.models import load_model\n",
        "\n",
        "model = load_model(\"/content/drive/MyDrive/Simpsons_Model/best_model.keras\")  # Load the full model"
      ],
      "metadata": {
        "id": "0V6BEIq0JkaN"
      },
      "execution_count": null,
      "outputs": []
    },
    {
      "cell_type": "code",
      "source": [
        "model.summary()\n"
      ],
      "metadata": {
        "id": "VaIIoltbKTsD"
      },
      "execution_count": null,
      "outputs": []
    },
    {
      "cell_type": "code",
      "source": [
        "selected_ix = 6\n",
        "test_instance = X_train[selected_ix]\n",
        "plt.imshow(test_instance)"
      ],
      "metadata": {
        "id": "Rb7dt4W0KuUf"
      },
      "execution_count": null,
      "outputs": []
    },
    {
      "cell_type": "code",
      "source": [
        "def occlude_image(img, pos=(0, 0), size=6, color=(0.5, 0.5, 0.5)):\n",
        "    img = img.copy()\n",
        "    img[pos[0] : pos[0] + size, pos[1] : pos[1] + size, :] = color\n",
        "    return img"
      ],
      "metadata": {
        "id": "kJhAMrjrJklS"
      },
      "execution_count": null,
      "outputs": []
    },
    {
      "cell_type": "code",
      "source": [],
      "metadata": {
        "id": "B164QblaKtNe"
      },
      "execution_count": null,
      "outputs": []
    },
    {
      "cell_type": "code",
      "source": [],
      "metadata": {
        "id": "82v43DPdJktE"
      },
      "execution_count": null,
      "outputs": []
    },
    {
      "cell_type": "code",
      "source": [
        "occlusion_size = 8\n",
        "occluded_images = generate_occluded_images(test_instance, occlusion_size=occlusion_size)"
      ],
      "metadata": {
        "id": "fJJ7JxF5Jk1i"
      },
      "execution_count": null,
      "outputs": []
    },
    {
      "cell_type": "code",
      "source": [
        "original_pred = model.predict(np.array([test_instance]))[0]\n",
        "original_prob = original_pred[np.argmax(original_pred)]\n",
        "original_pred, np.argmax(original_pred), original_prob"
      ],
      "metadata": {
        "id": "r6fQDFgqJhwm"
      },
      "execution_count": null,
      "outputs": []
    },
    {
      "cell_type": "code",
      "source": [
        "predictions = model.predict(occluded_images)\n",
        "predictions.shape"
      ],
      "metadata": {
        "id": "9LQ5W05iKZWC"
      },
      "execution_count": null,
      "outputs": []
    },
    {
      "cell_type": "code",
      "source": [],
      "metadata": {
        "id": "OQr0Ev3SKw3E"
      },
      "execution_count": null,
      "outputs": []
    },
    {
      "cell_type": "code",
      "source": [],
      "metadata": {
        "id": "gqjTkrcNKw5Q"
      },
      "execution_count": null,
      "outputs": []
    },
    {
      "cell_type": "code",
      "source": [],
      "metadata": {
        "id": "Cw65BVquKw8C"
      },
      "execution_count": null,
      "outputs": []
    },
    {
      "cell_type": "code",
      "source": [],
      "metadata": {
        "id": "8aolYoU9Kw94"
      },
      "execution_count": null,
      "outputs": []
    },
    {
      "cell_type": "code",
      "source": [],
      "metadata": {
        "id": "ujriNfK7KxAv"
      },
      "execution_count": null,
      "outputs": []
    }
  ],
  "metadata": {
    "accelerator": "TPU",
    "colab": {
      "gpuType": "V5E1",
      "provenance": [],
      "include_colab_link": true
    },
    "kernelspec": {
      "display_name": "Python 3",
      "name": "python3"
    },
    "language_info": {
      "codemirror_mode": {
        "name": "ipython",
        "version": 3
      },
      "file_extension": ".py",
      "mimetype": "text/x-python",
      "name": "python",
      "nbconvert_exporter": "python",
      "pygments_lexer": "ipython3",
      "version": "3.10.4"
    }
  },
  "nbformat": 4,
  "nbformat_minor": 0
}